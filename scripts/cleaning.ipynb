{
 "cells": [
  {
   "cell_type": "code",
   "execution_count": 1,
   "metadata": {},
   "outputs": [
    {
     "name": "stdout",
     "output_type": "stream",
     "text": [
      "Requirement already satisfied: numpy in /Users/curtishammons/opt/anaconda3/lib/python3.8/site-packages (1.19.2)\n",
      "Requirement already satisfied: pandas in /Users/curtishammons/opt/anaconda3/lib/python3.8/site-packages (1.1.3)\n",
      "Requirement already satisfied: numpy>=1.15.4 in /Users/curtishammons/opt/anaconda3/lib/python3.8/site-packages (from pandas) (1.19.2)\n",
      "Requirement already satisfied: python-dateutil>=2.7.3 in /Users/curtishammons/opt/anaconda3/lib/python3.8/site-packages (from pandas) (2.8.1)\n",
      "Requirement already satisfied: pytz>=2017.2 in /Users/curtishammons/opt/anaconda3/lib/python3.8/site-packages (from pandas) (2020.5)\n",
      "Requirement already satisfied: six>=1.5 in /Users/curtishammons/opt/anaconda3/lib/python3.8/site-packages (from python-dateutil>=2.7.3->pandas) (1.15.0)\n",
      "Requirement already satisfied: scipy in /Users/curtishammons/opt/anaconda3/lib/python3.8/site-packages (1.5.2)\n",
      "Requirement already satisfied: numpy>=1.14.5 in /Users/curtishammons/opt/anaconda3/lib/python3.8/site-packages (from scipy) (1.19.2)\n",
      "Requirement already satisfied: sklearn in /Users/curtishammons/opt/anaconda3/lib/python3.8/site-packages (0.0)\n",
      "Requirement already satisfied: scikit-learn in /Users/curtishammons/opt/anaconda3/lib/python3.8/site-packages (from sklearn) (0.23.2)\n",
      "Requirement already satisfied: joblib>=0.11 in /Users/curtishammons/opt/anaconda3/lib/python3.8/site-packages (from scikit-learn->sklearn) (0.17.0)\n",
      "Requirement already satisfied: threadpoolctl>=2.0.0 in /Users/curtishammons/opt/anaconda3/lib/python3.8/site-packages (from scikit-learn->sklearn) (2.1.0)\n",
      "Requirement already satisfied: numpy>=1.13.3 in /Users/curtishammons/opt/anaconda3/lib/python3.8/site-packages (from scikit-learn->sklearn) (1.19.2)\n",
      "Requirement already satisfied: scipy>=0.19.1 in /Users/curtishammons/opt/anaconda3/lib/python3.8/site-packages (from scikit-learn->sklearn) (1.5.2)\n"
     ]
    }
   ],
   "source": [
    "!pip install numpy\n",
    "!pip install pandas\n",
    "!pip install scipy\n",
    "!pip install sklearn"
   ]
  },
  {
   "cell_type": "code",
   "execution_count": 2,
   "metadata": {},
   "outputs": [],
   "source": [
    "import numpy as np\n",
    "import pandas as pd\n",
    "from pandas import DataFrame\n",
    "import scipy.stats as stats\n",
    "from sklearn.preprocessing import scale\n",
    "from sklearn.decomposition import PCA\n",
    "import matplotlib.pyplot as plt\n",
    "import seaborn as sns"
   ]
  },
  {
   "cell_type": "markdown",
   "metadata": {},
   "source": [
    "# Data Inspection"
   ]
  },
  {
   "cell_type": "code",
   "execution_count": 3,
   "metadata": {},
   "outputs": [
    {
     "name": "stdout",
     "output_type": "stream",
     "text": [
      "<class 'pandas.core.frame.DataFrame'>\n",
      "RangeIndex: 10000 entries, 0 to 9999\n",
      "Data columns (total 53 columns):\n",
      " #   Column              Non-Null Count  Dtype  \n",
      "---  ------              --------------  -----  \n",
      " 0   Unnamed: 0          10000 non-null  int64  \n",
      " 1   CaseOrder           10000 non-null  int64  \n",
      " 2   Customer_id         10000 non-null  object \n",
      " 3   Interaction         10000 non-null  object \n",
      " 4   UID                 10000 non-null  object \n",
      " 5   City                10000 non-null  object \n",
      " 6   State               10000 non-null  object \n",
      " 7   County              10000 non-null  object \n",
      " 8   Zip                 10000 non-null  int64  \n",
      " 9   Lat                 10000 non-null  float64\n",
      " 10  Lng                 10000 non-null  float64\n",
      " 11  Population          10000 non-null  int64  \n",
      " 12  Area                10000 non-null  object \n",
      " 13  Timezone            10000 non-null  object \n",
      " 14  Job                 10000 non-null  object \n",
      " 15  Children            7412 non-null   float64\n",
      " 16  Age                 7586 non-null   float64\n",
      " 17  Education           10000 non-null  object \n",
      " 18  Employment          10000 non-null  object \n",
      " 19  Income              7536 non-null   float64\n",
      " 20  Marital             10000 non-null  object \n",
      " 21  Gender              10000 non-null  object \n",
      " 22  ReAdmis             10000 non-null  object \n",
      " 23  VitD_levels         10000 non-null  float64\n",
      " 24  Doc_visits          10000 non-null  int64  \n",
      " 25  Full_meals_eaten    10000 non-null  int64  \n",
      " 26  VitD_supp           10000 non-null  int64  \n",
      " 27  Soft_drink          7533 non-null   object \n",
      " 28  Initial_admin       10000 non-null  object \n",
      " 29  HighBlood           10000 non-null  object \n",
      " 30  Stroke              10000 non-null  object \n",
      " 31  Complication_risk   10000 non-null  object \n",
      " 32  Overweight          9018 non-null   float64\n",
      " 33  Arthritis           10000 non-null  object \n",
      " 34  Diabetes            10000 non-null  object \n",
      " 35  Hyperlipidemia      10000 non-null  object \n",
      " 36  BackPain            10000 non-null  object \n",
      " 37  Anxiety             9016 non-null   float64\n",
      " 38  Allergic_rhinitis   10000 non-null  object \n",
      " 39  Reflux_esophagitis  10000 non-null  object \n",
      " 40  Asthma              10000 non-null  object \n",
      " 41  Services            10000 non-null  object \n",
      " 42  Initial_days        8944 non-null   float64\n",
      " 43  TotalCharge         10000 non-null  float64\n",
      " 44  Additional_charges  10000 non-null  float64\n",
      " 45  Item1               10000 non-null  int64  \n",
      " 46  Item2               10000 non-null  int64  \n",
      " 47  Item3               10000 non-null  int64  \n",
      " 48  Item4               10000 non-null  int64  \n",
      " 49  Item5               10000 non-null  int64  \n",
      " 50  Item6               10000 non-null  int64  \n",
      " 51  Item7               10000 non-null  int64  \n",
      " 52  Item8               10000 non-null  int64  \n",
      "dtypes: float64(11), int64(15), object(27)\n",
      "memory usage: 4.0+ MB\n"
     ]
    }
   ],
   "source": [
    "medical_raw = pd.read_csv('data/medical_raw_data.csv')\n",
    "medical_raw.info()"
   ]
  },
  {
   "cell_type": "code",
   "execution_count": 4,
   "metadata": {},
   "outputs": [
    {
     "data": {
      "text/html": [
       "<div>\n",
       "<style scoped>\n",
       "    .dataframe tbody tr th:only-of-type {\n",
       "        vertical-align: middle;\n",
       "    }\n",
       "\n",
       "    .dataframe tbody tr th {\n",
       "        vertical-align: top;\n",
       "    }\n",
       "\n",
       "    .dataframe thead th {\n",
       "        text-align: right;\n",
       "    }\n",
       "</style>\n",
       "<table border=\"1\" class=\"dataframe\">\n",
       "  <thead>\n",
       "    <tr style=\"text-align: right;\">\n",
       "      <th></th>\n",
       "      <th>Unnamed: 0</th>\n",
       "      <th>CaseOrder</th>\n",
       "      <th>Customer_id</th>\n",
       "      <th>Interaction</th>\n",
       "      <th>UID</th>\n",
       "      <th>City</th>\n",
       "      <th>State</th>\n",
       "      <th>County</th>\n",
       "      <th>Zip</th>\n",
       "      <th>Lat</th>\n",
       "      <th>...</th>\n",
       "      <th>TotalCharge</th>\n",
       "      <th>Additional_charges</th>\n",
       "      <th>Item1</th>\n",
       "      <th>Item2</th>\n",
       "      <th>Item3</th>\n",
       "      <th>Item4</th>\n",
       "      <th>Item5</th>\n",
       "      <th>Item6</th>\n",
       "      <th>Item7</th>\n",
       "      <th>Item8</th>\n",
       "    </tr>\n",
       "  </thead>\n",
       "  <tbody>\n",
       "    <tr>\n",
       "      <th>0</th>\n",
       "      <td>1</td>\n",
       "      <td>1</td>\n",
       "      <td>C412403</td>\n",
       "      <td>8cd49b13-f45a-4b47-a2bd-173ffa932c2f</td>\n",
       "      <td>3a83ddb66e2ae73798bdf1d705dc0932</td>\n",
       "      <td>Eva</td>\n",
       "      <td>AL</td>\n",
       "      <td>Morgan</td>\n",
       "      <td>35621</td>\n",
       "      <td>34.34960</td>\n",
       "      <td>...</td>\n",
       "      <td>3191.048774</td>\n",
       "      <td>17939.403420</td>\n",
       "      <td>3</td>\n",
       "      <td>3</td>\n",
       "      <td>2</td>\n",
       "      <td>2</td>\n",
       "      <td>4</td>\n",
       "      <td>3</td>\n",
       "      <td>3</td>\n",
       "      <td>4</td>\n",
       "    </tr>\n",
       "    <tr>\n",
       "      <th>1</th>\n",
       "      <td>2</td>\n",
       "      <td>2</td>\n",
       "      <td>Z919181</td>\n",
       "      <td>d2450b70-0337-4406-bdbb-bc1037f1734c</td>\n",
       "      <td>176354c5eef714957d486009feabf195</td>\n",
       "      <td>Marianna</td>\n",
       "      <td>FL</td>\n",
       "      <td>Jackson</td>\n",
       "      <td>32446</td>\n",
       "      <td>30.84513</td>\n",
       "      <td>...</td>\n",
       "      <td>4214.905346</td>\n",
       "      <td>17612.998120</td>\n",
       "      <td>3</td>\n",
       "      <td>4</td>\n",
       "      <td>3</td>\n",
       "      <td>4</td>\n",
       "      <td>4</td>\n",
       "      <td>4</td>\n",
       "      <td>3</td>\n",
       "      <td>3</td>\n",
       "    </tr>\n",
       "    <tr>\n",
       "      <th>2</th>\n",
       "      <td>3</td>\n",
       "      <td>3</td>\n",
       "      <td>F995323</td>\n",
       "      <td>a2057123-abf5-4a2c-abad-8ffe33512562</td>\n",
       "      <td>e19a0fa00aeda885b8a436757e889bc9</td>\n",
       "      <td>Sioux Falls</td>\n",
       "      <td>SD</td>\n",
       "      <td>Minnehaha</td>\n",
       "      <td>57110</td>\n",
       "      <td>43.54321</td>\n",
       "      <td>...</td>\n",
       "      <td>2177.586768</td>\n",
       "      <td>17505.192460</td>\n",
       "      <td>2</td>\n",
       "      <td>4</td>\n",
       "      <td>4</td>\n",
       "      <td>4</td>\n",
       "      <td>3</td>\n",
       "      <td>4</td>\n",
       "      <td>3</td>\n",
       "      <td>3</td>\n",
       "    </tr>\n",
       "    <tr>\n",
       "      <th>3</th>\n",
       "      <td>4</td>\n",
       "      <td>4</td>\n",
       "      <td>A879973</td>\n",
       "      <td>1dec528d-eb34-4079-adce-0d7a40e82205</td>\n",
       "      <td>cd17d7b6d152cb6f23957346d11c3f07</td>\n",
       "      <td>New Richland</td>\n",
       "      <td>MN</td>\n",
       "      <td>Waseca</td>\n",
       "      <td>56072</td>\n",
       "      <td>43.89744</td>\n",
       "      <td>...</td>\n",
       "      <td>2465.118965</td>\n",
       "      <td>12993.437350</td>\n",
       "      <td>3</td>\n",
       "      <td>5</td>\n",
       "      <td>5</td>\n",
       "      <td>3</td>\n",
       "      <td>4</td>\n",
       "      <td>5</td>\n",
       "      <td>5</td>\n",
       "      <td>5</td>\n",
       "    </tr>\n",
       "    <tr>\n",
       "      <th>4</th>\n",
       "      <td>5</td>\n",
       "      <td>5</td>\n",
       "      <td>C544523</td>\n",
       "      <td>5885f56b-d6da-43a3-8760-83583af94266</td>\n",
       "      <td>d2f0425877b10ed6bb381f3e2579424a</td>\n",
       "      <td>West Point</td>\n",
       "      <td>VA</td>\n",
       "      <td>King William</td>\n",
       "      <td>23181</td>\n",
       "      <td>37.59894</td>\n",
       "      <td>...</td>\n",
       "      <td>1885.655137</td>\n",
       "      <td>3716.525786</td>\n",
       "      <td>2</td>\n",
       "      <td>1</td>\n",
       "      <td>3</td>\n",
       "      <td>3</td>\n",
       "      <td>5</td>\n",
       "      <td>3</td>\n",
       "      <td>4</td>\n",
       "      <td>3</td>\n",
       "    </tr>\n",
       "  </tbody>\n",
       "</table>\n",
       "<p>5 rows × 53 columns</p>\n",
       "</div>"
      ],
      "text/plain": [
       "   Unnamed: 0  CaseOrder Customer_id                           Interaction  \\\n",
       "0           1          1     C412403  8cd49b13-f45a-4b47-a2bd-173ffa932c2f   \n",
       "1           2          2     Z919181  d2450b70-0337-4406-bdbb-bc1037f1734c   \n",
       "2           3          3     F995323  a2057123-abf5-4a2c-abad-8ffe33512562   \n",
       "3           4          4     A879973  1dec528d-eb34-4079-adce-0d7a40e82205   \n",
       "4           5          5     C544523  5885f56b-d6da-43a3-8760-83583af94266   \n",
       "\n",
       "                                UID          City State        County    Zip  \\\n",
       "0  3a83ddb66e2ae73798bdf1d705dc0932           Eva    AL        Morgan  35621   \n",
       "1  176354c5eef714957d486009feabf195      Marianna    FL       Jackson  32446   \n",
       "2  e19a0fa00aeda885b8a436757e889bc9   Sioux Falls    SD     Minnehaha  57110   \n",
       "3  cd17d7b6d152cb6f23957346d11c3f07  New Richland    MN        Waseca  56072   \n",
       "4  d2f0425877b10ed6bb381f3e2579424a    West Point    VA  King William  23181   \n",
       "\n",
       "        Lat  ...  TotalCharge  Additional_charges Item1 Item2 Item3  Item4  \\\n",
       "0  34.34960  ...  3191.048774        17939.403420     3     3     2      2   \n",
       "1  30.84513  ...  4214.905346        17612.998120     3     4     3      4   \n",
       "2  43.54321  ...  2177.586768        17505.192460     2     4     4      4   \n",
       "3  43.89744  ...  2465.118965        12993.437350     3     5     5      3   \n",
       "4  37.59894  ...  1885.655137         3716.525786     2     1     3      3   \n",
       "\n",
       "   Item5 Item6 Item7  Item8  \n",
       "0      4     3     3      4  \n",
       "1      4     4     3      3  \n",
       "2      3     4     3      3  \n",
       "3      4     5     5      5  \n",
       "4      5     3     4      3  \n",
       "\n",
       "[5 rows x 53 columns]"
      ]
     },
     "execution_count": 4,
     "metadata": {},
     "output_type": "execute_result"
    }
   ],
   "source": [
    "medical_raw.head()"
   ]
  },
  {
   "cell_type": "markdown",
   "metadata": {},
   "source": [
    "# Fixing Inconsistencies\n",
    "\n",
    "## Column names\n",
    "\n",
    "The first thing we notice is the columns of the dataset follow the naming convention of using underscores between words... except for TotalCharge, HighBlood, and BackPain which simply capitalizes the second word. We'll fix this inconsistency before we move forward."
   ]
  },
  {
   "cell_type": "code",
   "execution_count": 5,
   "metadata": {},
   "outputs": [],
   "source": [
    "medical_raw.rename(columns = {'TotalCharge': 'Total_charge'}, inplace=True)\n",
    "medical_raw.rename(columns = {'HighBlood': 'High_blood'}, inplace=True)\n",
    "medical_raw.rename(columns = {'BackPain': 'Back_pain'}, inplace=True)"
   ]
  },
  {
   "cell_type": "markdown",
   "metadata": {},
   "source": [
    "## Boolean features\n",
    "\n",
    "We have a few columns that have either \"yes\" and \"no\", or \"1\" and \"0\", values. We'll standardize all of them to be \"1\" for yes and \"0\" for no. We do this for consistency and because it is easier to perform analysis on numerical data."
   ]
  },
  {
   "cell_type": "code",
   "execution_count": 6,
   "metadata": {},
   "outputs": [],
   "source": [
    "medical_raw['ReAdmis'] = medical_raw['ReAdmis'].replace({\"Yes\": 1, \"No\": 0})\n",
    "medical_raw['Soft_drink'] = medical_raw['Soft_drink'].replace({\"Yes\": 1, \"No\": 0})\n",
    "medical_raw['High_blood'] = medical_raw['High_blood'].replace({\"Yes\": 1, \"No\": 0})\n",
    "medical_raw['Stroke'] = medical_raw['Stroke'].replace({\"Yes\": 1, \"No\": 0})\n",
    "medical_raw['Arthritis'] = medical_raw['Arthritis'].replace({\"Yes\": 1, \"No\": 0})\n",
    "medical_raw['Diabetes'] = medical_raw['Diabetes'].replace({\"Yes\": 1, \"No\": 0})\n",
    "medical_raw['Hyperlipidemia'] = medical_raw['Hyperlipidemia'].replace({\"Yes\": 1, \"No\": 0})\n",
    "medical_raw['Back_pain'] = medical_raw['Back_pain'].replace({\"Yes\": 1, \"No\": 0})\n",
    "medical_raw['Allergic_rhinitis'] = medical_raw['Allergic_rhinitis'].replace({\"Yes\": 1, \"No\": 0})\n",
    "medical_raw['Reflux_esophagitis'] = medical_raw['Reflux_esophagitis'].replace({\"Yes\": 1, \"No\": 0})\n",
    "medical_raw['Asthma'] = medical_raw['Asthma'].replace({\"Yes\": 1, \"No\": 0})"
   ]
  },
  {
   "cell_type": "markdown",
   "metadata": {},
   "source": [
    "# Handling Null Values\n",
    "\n",
    "Let's check which columns contain null values:"
   ]
  },
  {
   "cell_type": "code",
   "execution_count": 7,
   "metadata": {},
   "outputs": [
    {
     "data": {
      "text/plain": [
       "Unnamed: 0            False\n",
       "CaseOrder             False\n",
       "Customer_id           False\n",
       "Interaction           False\n",
       "UID                   False\n",
       "City                  False\n",
       "State                 False\n",
       "County                False\n",
       "Zip                   False\n",
       "Lat                   False\n",
       "Lng                   False\n",
       "Population            False\n",
       "Area                  False\n",
       "Timezone              False\n",
       "Job                   False\n",
       "Children               True\n",
       "Age                    True\n",
       "Education             False\n",
       "Employment            False\n",
       "Income                 True\n",
       "Marital               False\n",
       "Gender                False\n",
       "ReAdmis               False\n",
       "VitD_levels           False\n",
       "Doc_visits            False\n",
       "Full_meals_eaten      False\n",
       "VitD_supp             False\n",
       "Soft_drink             True\n",
       "Initial_admin         False\n",
       "High_blood            False\n",
       "Stroke                False\n",
       "Complication_risk     False\n",
       "Overweight             True\n",
       "Arthritis             False\n",
       "Diabetes              False\n",
       "Hyperlipidemia        False\n",
       "Back_pain             False\n",
       "Anxiety                True\n",
       "Allergic_rhinitis     False\n",
       "Reflux_esophagitis    False\n",
       "Asthma                False\n",
       "Services              False\n",
       "Initial_days           True\n",
       "Total_charge          False\n",
       "Additional_charges    False\n",
       "Item1                 False\n",
       "Item2                 False\n",
       "Item3                 False\n",
       "Item4                 False\n",
       "Item5                 False\n",
       "Item6                 False\n",
       "Item7                 False\n",
       "Item8                 False\n",
       "dtype: bool"
      ]
     },
     "execution_count": 7,
     "metadata": {},
     "output_type": "execute_result"
    }
   ],
   "source": [
    "medical_raw.isnull().any()"
   ]
  },
  {
   "cell_type": "markdown",
   "metadata": {},
   "source": [
    "Upon inspection we find that the following columns contain null values:\n",
    "    \n",
    "- Children\n",
    "- Age\n",
    "- Income\n",
    "- soft_drink\n",
    "- Overweight\n",
    "- Anxiety\n",
    "- Initial_days"
   ]
  },
  {
   "cell_type": "markdown",
   "metadata": {},
   "source": [
    "## Children\n",
    "For the Children column, we will use ``fillna()`` from pandas specifying ``method='bfill'`` to fill in the missing data based on the data that is not null. "
   ]
  },
  {
   "cell_type": "code",
   "execution_count": 8,
   "metadata": {},
   "outputs": [],
   "source": [
    "medical_raw['Children'].fillna(method='bfill', inplace=True)"
   ]
  },
  {
   "cell_type": "markdown",
   "metadata": {},
   "source": [
    "Check if there are any null values remaining:"
   ]
  },
  {
   "cell_type": "code",
   "execution_count": 9,
   "metadata": {},
   "outputs": [
    {
     "data": {
      "text/plain": [
       "0"
      ]
     },
     "execution_count": 9,
     "metadata": {},
     "output_type": "execute_result"
    }
   ],
   "source": [
    "medical_raw['Children'].isna().sum()"
   ]
  },
  {
   "cell_type": "markdown",
   "metadata": {},
   "source": [
    "## Age"
   ]
  },
  {
   "cell_type": "code",
   "execution_count": 10,
   "metadata": {},
   "outputs": [
    {
     "data": {
      "text/plain": [
       "2414"
      ]
     },
     "execution_count": 10,
     "metadata": {},
     "output_type": "execute_result"
    }
   ],
   "source": [
    "medical_raw['Age'].isna().sum()\n"
   ]
  },
  {
   "cell_type": "markdown",
   "metadata": {},
   "source": [
    "We'll use the same methodology for Age that we used for Children previously."
   ]
  },
  {
   "cell_type": "code",
   "execution_count": 11,
   "metadata": {},
   "outputs": [],
   "source": [
    "medical_raw['Age'].fillna(round(medical_raw['Age'].mean()), inplace=True)"
   ]
  },
  {
   "cell_type": "markdown",
   "metadata": {},
   "source": [
    "Check if there are any null values remaining:"
   ]
  },
  {
   "cell_type": "code",
   "execution_count": 12,
   "metadata": {},
   "outputs": [
    {
     "data": {
      "text/plain": [
       "0"
      ]
     },
     "execution_count": 12,
     "metadata": {},
     "output_type": "execute_result"
    }
   ],
   "source": [
    "medical_raw['Age'].isna().sum()"
   ]
  },
  {
   "cell_type": "markdown",
   "metadata": {},
   "source": [
    "## Income"
   ]
  },
  {
   "cell_type": "code",
   "execution_count": 13,
   "metadata": {},
   "outputs": [
    {
     "data": {
      "text/plain": [
       "2464"
      ]
     },
     "execution_count": 13,
     "metadata": {},
     "output_type": "execute_result"
    }
   ],
   "source": [
    "medical_raw['Income'].isna().sum()"
   ]
  },
  {
   "cell_type": "markdown",
   "metadata": {},
   "source": [
    "For Income we will replace the null values with the mean of the given values."
   ]
  },
  {
   "cell_type": "code",
   "execution_count": 14,
   "metadata": {},
   "outputs": [
    {
     "data": {
      "text/plain": [
       "40484.43826831216"
      ]
     },
     "execution_count": 14,
     "metadata": {},
     "output_type": "execute_result"
    }
   ],
   "source": [
    "income_mean = medical_raw['Income'].mean()\n",
    "income_mean"
   ]
  },
  {
   "cell_type": "code",
   "execution_count": 15,
   "metadata": {},
   "outputs": [],
   "source": [
    "medical_raw['Income'].fillna(medical_raw['Income'].mean(), inplace=True)"
   ]
  },
  {
   "cell_type": "code",
   "execution_count": 16,
   "metadata": {},
   "outputs": [
    {
     "data": {
      "text/plain": [
       "0"
      ]
     },
     "execution_count": 16,
     "metadata": {},
     "output_type": "execute_result"
    }
   ],
   "source": [
    "medical_raw['Income'].isna().sum()"
   ]
  },
  {
   "cell_type": "markdown",
   "metadata": {},
   "source": [
    "## Soft_drink"
   ]
  },
  {
   "cell_type": "code",
   "execution_count": 17,
   "metadata": {},
   "outputs": [
    {
     "data": {
      "text/plain": [
       "2467"
      ]
     },
     "execution_count": 17,
     "metadata": {},
     "output_type": "execute_result"
    }
   ],
   "source": [
    "medical_raw['Soft_drink'].isna().sum()"
   ]
  },
  {
   "cell_type": "markdown",
   "metadata": {},
   "source": [
    "Since soft_drink is categorical, either a \"Yes\" or \"No\", we'll replace the nulls with the mode."
   ]
  },
  {
   "cell_type": "code",
   "execution_count": 18,
   "metadata": {},
   "outputs": [
    {
     "data": {
      "text/plain": [
       "0"
      ]
     },
     "execution_count": 18,
     "metadata": {},
     "output_type": "execute_result"
    }
   ],
   "source": [
    "medical_raw['Soft_drink'].fillna(medical_raw['Soft_drink'].mode()[0], inplace=True)\n",
    "medical_raw['Soft_drink'].isnull().sum()"
   ]
  },
  {
   "cell_type": "markdown",
   "metadata": {},
   "source": [
    "## Overweight"
   ]
  },
  {
   "cell_type": "code",
   "execution_count": 19,
   "metadata": {},
   "outputs": [
    {
     "data": {
      "text/plain": [
       "982"
      ]
     },
     "execution_count": 19,
     "metadata": {},
     "output_type": "execute_result"
    }
   ],
   "source": [
    "medical_raw['Overweight'].isna().sum()"
   ]
  },
  {
   "cell_type": "markdown",
   "metadata": {},
   "source": [
    "Overweight is also categorical, though it is \"0\" and \"1\" instead of \"yes and \"no\" (we'll fix these inconsitencies in the categorical values later). We'll use the same method we used for soft_drink."
   ]
  },
  {
   "cell_type": "code",
   "execution_count": 20,
   "metadata": {},
   "outputs": [
    {
     "data": {
      "text/plain": [
       "0"
      ]
     },
     "execution_count": 20,
     "metadata": {},
     "output_type": "execute_result"
    }
   ],
   "source": [
    "medical_raw['Overweight'].fillna(medical_raw['Overweight'].mode()[0], inplace=True)\n",
    "medical_raw['Overweight'].isna().sum()"
   ]
  },
  {
   "cell_type": "markdown",
   "metadata": {},
   "source": [
    "## Anxiety\n",
    "Another categorical! we use mode again"
   ]
  },
  {
   "cell_type": "code",
   "execution_count": 21,
   "metadata": {},
   "outputs": [
    {
     "data": {
      "text/plain": [
       "984"
      ]
     },
     "execution_count": 21,
     "metadata": {},
     "output_type": "execute_result"
    }
   ],
   "source": [
    "medical_raw['Anxiety'].isna().sum()"
   ]
  },
  {
   "cell_type": "code",
   "execution_count": 22,
   "metadata": {},
   "outputs": [
    {
     "data": {
      "text/plain": [
       "0"
      ]
     },
     "execution_count": 22,
     "metadata": {},
     "output_type": "execute_result"
    }
   ],
   "source": [
    "medical_raw['Anxiety'].fillna(medical_raw['Anxiety'].mode()[0], inplace=True)\n",
    "medical_raw['Anxiety'].isna().sum()"
   ]
  },
  {
   "cell_type": "markdown",
   "metadata": {},
   "source": [
    "## Initial_days\n",
    "Numerical"
   ]
  },
  {
   "cell_type": "code",
   "execution_count": 23,
   "metadata": {},
   "outputs": [
    {
     "data": {
      "text/plain": [
       "1056"
      ]
     },
     "execution_count": 23,
     "metadata": {},
     "output_type": "execute_result"
    }
   ],
   "source": [
    "medical_raw['Initial_days'].isna().sum()"
   ]
  },
  {
   "cell_type": "code",
   "execution_count": 24,
   "metadata": {},
   "outputs": [
    {
     "data": {
      "text/plain": [
       "0"
      ]
     },
     "execution_count": 24,
     "metadata": {},
     "output_type": "execute_result"
    }
   ],
   "source": [
    "medical_raw['Initial_days'].fillna(medical_raw['Initial_days'].mean(), inplace=True)\n",
    "medical_raw['Initial_days'].isna().sum()"
   ]
  },
  {
   "cell_type": "code",
   "execution_count": 25,
   "metadata": {},
   "outputs": [
    {
     "data": {
      "text/plain": [
       "Unnamed: 0            False\n",
       "CaseOrder             False\n",
       "Customer_id           False\n",
       "Interaction           False\n",
       "UID                   False\n",
       "City                  False\n",
       "State                 False\n",
       "County                False\n",
       "Zip                   False\n",
       "Lat                   False\n",
       "Lng                   False\n",
       "Population            False\n",
       "Area                  False\n",
       "Timezone              False\n",
       "Job                   False\n",
       "Children              False\n",
       "Age                   False\n",
       "Education             False\n",
       "Employment            False\n",
       "Income                False\n",
       "Marital               False\n",
       "Gender                False\n",
       "ReAdmis               False\n",
       "VitD_levels           False\n",
       "Doc_visits            False\n",
       "Full_meals_eaten      False\n",
       "VitD_supp             False\n",
       "Soft_drink            False\n",
       "Initial_admin         False\n",
       "High_blood            False\n",
       "Stroke                False\n",
       "Complication_risk     False\n",
       "Overweight            False\n",
       "Arthritis             False\n",
       "Diabetes              False\n",
       "Hyperlipidemia        False\n",
       "Back_pain             False\n",
       "Anxiety               False\n",
       "Allergic_rhinitis     False\n",
       "Reflux_esophagitis    False\n",
       "Asthma                False\n",
       "Services              False\n",
       "Initial_days          False\n",
       "Total_charge          False\n",
       "Additional_charges    False\n",
       "Item1                 False\n",
       "Item2                 False\n",
       "Item3                 False\n",
       "Item4                 False\n",
       "Item5                 False\n",
       "Item6                 False\n",
       "Item7                 False\n",
       "Item8                 False\n",
       "dtype: bool"
      ]
     },
     "execution_count": 25,
     "metadata": {},
     "output_type": "execute_result"
    }
   ],
   "source": [
    "medical_raw.isnull().any()"
   ]
  },
  {
   "cell_type": "code",
   "execution_count": 26,
   "metadata": {},
   "outputs": [],
   "source": [
    "medical_raw.to_csv('data/clean.csv')"
   ]
  },
  {
   "cell_type": "markdown",
   "metadata": {},
   "source": [
    "# Handling Outliers"
   ]
  },
  {
   "cell_type": "markdown",
   "metadata": {},
   "source": [
    "Now we'll check all of the numeric data fields for outliers and handle them if needed."
   ]
  },
  {
   "cell_type": "code",
   "execution_count": 27,
   "metadata": {},
   "outputs": [],
   "source": [
    "%matplotlib inline"
   ]
  },
  {
   "cell_type": "markdown",
   "metadata": {},
   "source": [
    "## Z-scores\n",
    "We're going to add a column to the dataset for each numeric feature that contains a standardized z-score. We'll leave the original columns unaltered so the original data are still accessible. "
   ]
  },
  {
   "cell_type": "code",
   "execution_count": 28,
   "metadata": {},
   "outputs": [],
   "source": [
    "medical_raw['Zscore_Population'] = stats.zscore(medical_raw['Population'])\n",
    "medical_raw['Zscore_Children'] = stats.zscore(medical_raw['Children'])\n",
    "medical_raw['Zscore_Age'] = stats.zscore(medical_raw['Age'])\n",
    "medical_raw['Zscore_Income'] = stats.zscore(medical_raw['Income'])\n",
    "medical_raw['Zscore_Doc_visits'] = stats.zscore(medical_raw['Doc_visits'])\n",
    "medical_raw['Zscore_Full_meals_eaten'] = stats.zscore(medical_raw['Full_meals_eaten'])\n",
    "medical_raw['Zscore_Initial_days'] = stats.zscore(medical_raw['Initial_days'])\n",
    "medical_raw['Zscore_Total_charge'] = stats.zscore(medical_raw['Total_charge'])\n",
    "medical_raw['Zscore_Additional_charges'] = stats.zscore(medical_raw['Additional_charges'])"
   ]
  },
  {
   "cell_type": "code",
   "execution_count": 29,
   "metadata": {},
   "outputs": [
    {
     "data": {
      "text/plain": [
       "<AxesSubplot:>"
      ]
     },
     "execution_count": 29,
     "metadata": {},
     "output_type": "execute_result"
    },
    {
     "data": {
      "image/png": "[encoded data removed]",
      "text/plain": [
       "<Figure size 432x288 with 1 Axes>"
      ]
     },
     "metadata": {
      "needs_background": "light"
     },
     "output_type": "display_data"
    }
   ],
   "source": [
    "medical_raw['Zscore_Population'].plot.box()"
   ]
  },
  {
   "cell_type": "code",
   "execution_count": 30,
   "metadata": {},
   "outputs": [
    {
     "data": {
      "text/plain": [
       "<AxesSubplot:>"
      ]
     },
     "execution_count": 30,
     "metadata": {},
     "output_type": "execute_result"
    },
    {
     "data": {
      "image/png": "[encoded data removed]",
      "text/plain": [
       "<Figure size 432x288 with 1 Axes>"
      ]
     },
     "metadata": {
      "needs_background": "light"
     },
     "output_type": "display_data"
    }
   ],
   "source": [
    "medical_raw['Zscore_Children'].plot.box()"
   ]
  },
  {
   "cell_type": "code",
   "execution_count": 31,
   "metadata": {},
   "outputs": [
    {
     "data": {
      "text/plain": [
       "<AxesSubplot:>"
      ]
     },
     "execution_count": 31,
     "metadata": {},
     "output_type": "execute_result"
    },
    {
     "data": {
      "image/png": "[encoded data removed]",
      "text/plain": [
       "<Figure size 432x288 with 1 Axes>"
      ]
     },
     "metadata": {
      "needs_background": "light"
     },
     "output_type": "display_data"
    }
   ],
   "source": [
    "medical_raw['Zscore_Age'].plot.box()"
   ]
  },
  {
   "cell_type": "code",
   "execution_count": 32,
   "metadata": {},
   "outputs": [
    {
     "data": {
      "text/plain": [
       "<AxesSubplot:>"
      ]
     },
     "execution_count": 32,
     "metadata": {},
     "output_type": "execute_result"
    },
    {
     "data": {
      "image/png": "[encoded data removed]",
      "text/plain": [
       "<Figure size 432x288 with 1 Axes>"
      ]
     },
     "metadata": {
      "needs_background": "light"
     },
     "output_type": "display_data"
    }
   ],
   "source": [
    "medical_raw['Zscore_Income'].plot.box()"
   ]
  },
  {
   "cell_type": "code",
   "execution_count": 33,
   "metadata": {},
   "outputs": [
    {
     "data": {
      "text/plain": [
       "<AxesSubplot:>"
      ]
     },
     "execution_count": 33,
     "metadata": {},
     "output_type": "execute_result"
    },
    {
     "data": {
      "image/png": "[encoded data removed]",
      "text/plain": [
       "<Figure size 432x288 with 1 Axes>"
      ]
     },
     "metadata": {
      "needs_background": "light"
     },
     "output_type": "display_data"
    }
   ],
   "source": [
    "medical_raw['Zscore_Doc_visits'].plot.box()"
   ]
  },
  {
   "cell_type": "code",
   "execution_count": 34,
   "metadata": {},
   "outputs": [
    {
     "data": {
      "text/plain": [
       "<AxesSubplot:>"
      ]
     },
     "execution_count": 34,
     "metadata": {},
     "output_type": "execute_result"
    },
    {
     "data": {
      "image/png": "[encoded data removed]",
      "text/plain": [
       "<Figure size 432x288 with 1 Axes>"
      ]
     },
     "metadata": {
      "needs_background": "light"
     },
     "output_type": "display_data"
    }
   ],
   "source": [
    "medical_raw['Zscore_Full_meals_eaten'].plot.box()"
   ]
  },
  {
   "cell_type": "code",
   "execution_count": 35,
   "metadata": {},
   "outputs": [
    {
     "data": {
      "text/plain": [
       "<AxesSubplot:>"
      ]
     },
     "execution_count": 35,
     "metadata": {},
     "output_type": "execute_result"
    },
    {
     "data": {
      "image/png": "[encoded data removed]",
      "text/plain": [
       "<Figure size 432x288 with 1 Axes>"
      ]
     },
     "metadata": {
      "needs_background": "light"
     },
     "output_type": "display_data"
    }
   ],
   "source": [
    "medical_raw['Zscore_Initial_days'].plot.box()"
   ]
  },
  {
   "cell_type": "code",
   "execution_count": 36,
   "metadata": {},
   "outputs": [
    {
     "data": {
      "text/plain": [
       "<AxesSubplot:>"
      ]
     },
     "execution_count": 36,
     "metadata": {},
     "output_type": "execute_result"
    },
    {
     "data": {
      "image/png": "[encoded data removed]",
      "text/plain": [
       "<Figure size 432x288 with 1 Axes>"
      ]
     },
     "metadata": {
      "needs_background": "light"
     },
     "output_type": "display_data"
    }
   ],
   "source": [
    "medical_raw['Zscore_Total_charge'].plot.box()"
   ]
  },
  {
   "cell_type": "code",
   "execution_count": 37,
   "metadata": {},
   "outputs": [
    {
     "data": {
      "text/plain": [
       "<AxesSubplot:>"
      ]
     },
     "execution_count": 37,
     "metadata": {},
     "output_type": "execute_result"
    },
    {
     "data": {
      "image/png": "[encoded data removed]",
      "text/plain": [
       "<Figure size 432x288 with 1 Axes>"
      ]
     },
     "metadata": {
      "needs_background": "light"
     },
     "output_type": "display_data"
    }
   ],
   "source": [
    "medical_raw['Zscore_Additional_charges'].plot.box()"
   ]
  },
  {
   "cell_type": "markdown",
   "metadata": {},
   "source": [
    "# Principle Component Analysis"
   ]
  },
  {
   "cell_type": "code",
   "execution_count": 38,
   "metadata": {},
   "outputs": [],
   "source": [
    "# adapted from \"Data Science Foundations: Data Mining\" chapter 2 section 4\n",
    "X = medical_raw[['Soft_drink', 'High_blood', 'Stroke', 'Overweight', 'Diabetes', \n",
    "                 'Hyperlipidemia', 'Back_pain', 'Anxiety', 'Allergic_rhinitis', \n",
    "                 'Reflux_esophagitis', 'Asthma', 'Item1', 'Item2', 'Item3', 'Item4', \n",
    "                 'Item5', 'Item6', 'Item7', 'Item8', 'Zscore_Population', 'Zscore_Children', 'Zscore_Age', \n",
    "                 'Zscore_Income', 'Zscore_Doc_visits', 'Zscore_Full_meals_eaten', \n",
    "                 'Zscore_Initial_days', 'Zscore_Total_charge', 'Zscore_Additional_charges']]"
   ]
  },
  {
   "cell_type": "code",
   "execution_count": 39,
   "metadata": {},
   "outputs": [],
   "source": [
    "medical_normalized = (X-X.mean())/X.std()"
   ]
  },
  {
   "cell_type": "code",
   "execution_count": null,
   "metadata": {},
   "outputs": [],
   "source": []
  },
  {
   "cell_type": "code",
   "execution_count": 40,
   "metadata": {},
   "outputs": [
    {
     "name": "stdout",
     "output_type": "stream",
     "text": [
      "[0.10555983 0.06833995 0.05935117 0.05710467 0.03829965 0.03756669\n",
      " 0.03731658 0.03697541 0.03671249 0.03633056 0.03624293 0.03575263\n",
      " 0.0356934  0.03551563 0.03504496 0.0347462  0.03439649 0.03378646\n",
      " 0.03362811 0.03326423 0.02738554 0.02483262 0.02097662 0.01901213\n",
      " 0.0168527  0.01409839 0.01165711 0.00355685]\n"
     ]
    }
   ],
   "source": [
    "pca = PCA(n_components=X.shape[1])\n",
    "pca.fit(medical_normalized)\n",
    "print(pca.explained_variance_ratio_)"
   ]
  },
  {
   "cell_type": "code",
   "execution_count": 41,
   "metadata": {},
   "outputs": [
    {
     "data": {
      "image/png": "[encoded data removed]",
      "text/plain": [
       "<Figure size 432x288 with 1 Axes>"
      ]
     },
     "metadata": {
      "needs_background": "light"
     },
     "output_type": "display_data"
    }
   ],
   "source": [
    "plt.plot(pca.explained_variance_ratio_)\n",
    "plt.xlabel('Number of components')\n",
    "plt.ylabel('Explained variance')\n",
    "plt.show()"
   ]
  },
  {
   "cell_type": "code",
   "execution_count": 42,
   "metadata": {},
   "outputs": [],
   "source": [
    "cov_matrix = np.dot(medical_normalized.T, medical_normalized / medical_normalized.shape[0])\n",
    "eigenvalues = [np.dot(eigenvector.T, np.dot(cov_matrix, eigenvector)) for eigenvector in pca.components_]"
   ]
  },
  {
   "cell_type": "code",
   "execution_count": 43,
   "metadata": {},
   "outputs": [
    {
     "data": {
      "image/png": "[encoded data removed]",
      "text/plain": [
       "<Figure size 432x288 with 1 Axes>"
      ]
     },
     "metadata": {
      "needs_background": "light"
     },
     "output_type": "display_data"
    }
   ],
   "source": [
    "plt.plot(eigenvalues)\n",
    "plt.xlabel('Number of components')\n",
    "plt.ylabel('Eigenvalue')\n",
    "plt.show()"
   ]
  },
  {
   "cell_type": "code",
   "execution_count": 45,
   "metadata": {},
   "outputs": [
    {
     "data": {
      "text/html": [
       "<div>\n",
       "<style scoped>\n",
       "    .dataframe tbody tr th:only-of-type {\n",
       "        vertical-align: middle;\n",
       "    }\n",
       "\n",
       "    .dataframe tbody tr th {\n",
       "        vertical-align: top;\n",
       "    }\n",
       "\n",
       "    .dataframe thead th {\n",
       "        text-align: right;\n",
       "    }\n",
       "</style>\n",
       "<table border=\"1\" class=\"dataframe\">\n",
       "  <thead>\n",
       "    <tr style=\"text-align: right;\">\n",
       "      <th></th>\n",
       "      <th>0</th>\n",
       "      <th>1</th>\n",
       "      <th>2</th>\n",
       "      <th>3</th>\n",
       "      <th>4</th>\n",
       "      <th>5</th>\n",
       "      <th>6</th>\n",
       "      <th>7</th>\n",
       "      <th>8</th>\n",
       "      <th>9</th>\n",
       "      <th>...</th>\n",
       "      <th>18</th>\n",
       "      <th>19</th>\n",
       "      <th>20</th>\n",
       "      <th>21</th>\n",
       "      <th>22</th>\n",
       "      <th>23</th>\n",
       "      <th>24</th>\n",
       "      <th>25</th>\n",
       "      <th>26</th>\n",
       "      <th>27</th>\n",
       "    </tr>\n",
       "  </thead>\n",
       "  <tbody>\n",
       "    <tr>\n",
       "      <th>Soft_drink</th>\n",
       "      <td>0.006699</td>\n",
       "      <td>0.001290</td>\n",
       "      <td>-0.011021</td>\n",
       "      <td>0.009945</td>\n",
       "      <td>0.270668</td>\n",
       "      <td>0.188216</td>\n",
       "      <td>0.493427</td>\n",
       "      <td>-0.227849</td>\n",
       "      <td>-0.176596</td>\n",
       "      <td>-0.203660</td>\n",
       "      <td>...</td>\n",
       "      <td>-0.172550</td>\n",
       "      <td>-0.002912</td>\n",
       "      <td>-0.042917</td>\n",
       "      <td>-0.042161</td>\n",
       "      <td>-0.019622</td>\n",
       "      <td>-0.022970</td>\n",
       "      <td>0.009466</td>\n",
       "      <td>0.005958</td>\n",
       "      <td>-0.016062</td>\n",
       "      <td>0.002343</td>\n",
       "    </tr>\n",
       "    <tr>\n",
       "      <th>High_blood</th>\n",
       "      <td>-0.004275</td>\n",
       "      <td>0.509045</td>\n",
       "      <td>-0.034166</td>\n",
       "      <td>-0.045650</td>\n",
       "      <td>-0.180190</td>\n",
       "      <td>0.130361</td>\n",
       "      <td>-0.068763</td>\n",
       "      <td>0.169801</td>\n",
       "      <td>0.209909</td>\n",
       "      <td>-0.262584</td>\n",
       "      <td>...</td>\n",
       "      <td>-0.298921</td>\n",
       "      <td>-0.090384</td>\n",
       "      <td>-0.019798</td>\n",
       "      <td>-0.025505</td>\n",
       "      <td>-0.010136</td>\n",
       "      <td>0.013138</td>\n",
       "      <td>-0.013337</td>\n",
       "      <td>-0.027163</td>\n",
       "      <td>0.006032</td>\n",
       "      <td>0.511612</td>\n",
       "    </tr>\n",
       "    <tr>\n",
       "      <th>Stroke</th>\n",
       "      <td>-0.002684</td>\n",
       "      <td>0.037366</td>\n",
       "      <td>-0.022919</td>\n",
       "      <td>-0.008746</td>\n",
       "      <td>0.031067</td>\n",
       "      <td>0.058381</td>\n",
       "      <td>-0.079772</td>\n",
       "      <td>0.066066</td>\n",
       "      <td>-0.124495</td>\n",
       "      <td>0.653645</td>\n",
       "      <td>...</td>\n",
       "      <td>0.144420</td>\n",
       "      <td>-0.112637</td>\n",
       "      <td>-0.027671</td>\n",
       "      <td>-0.005642</td>\n",
       "      <td>-0.024555</td>\n",
       "      <td>0.007986</td>\n",
       "      <td>0.010987</td>\n",
       "      <td>0.014578</td>\n",
       "      <td>0.008417</td>\n",
       "      <td>0.015599</td>\n",
       "    </tr>\n",
       "    <tr>\n",
       "      <th>Overweight</th>\n",
       "      <td>0.004241</td>\n",
       "      <td>0.018845</td>\n",
       "      <td>-0.027435</td>\n",
       "      <td>-0.030096</td>\n",
       "      <td>-0.421873</td>\n",
       "      <td>-0.305640</td>\n",
       "      <td>0.193228</td>\n",
       "      <td>0.097652</td>\n",
       "      <td>0.170671</td>\n",
       "      <td>-0.148307</td>\n",
       "      <td>...</td>\n",
       "      <td>0.444712</td>\n",
       "      <td>0.196071</td>\n",
       "      <td>-0.041495</td>\n",
       "      <td>0.024872</td>\n",
       "      <td>-0.004228</td>\n",
       "      <td>-0.007004</td>\n",
       "      <td>-0.008543</td>\n",
       "      <td>0.003466</td>\n",
       "      <td>-0.001368</td>\n",
       "      <td>0.000150</td>\n",
       "    </tr>\n",
       "    <tr>\n",
       "      <th>Diabetes</th>\n",
       "      <td>-0.003022</td>\n",
       "      <td>0.000677</td>\n",
       "      <td>-0.034888</td>\n",
       "      <td>0.004111</td>\n",
       "      <td>0.362358</td>\n",
       "      <td>-0.050037</td>\n",
       "      <td>0.116749</td>\n",
       "      <td>0.100768</td>\n",
       "      <td>-0.247399</td>\n",
       "      <td>-0.083707</td>\n",
       "      <td>...</td>\n",
       "      <td>0.040097</td>\n",
       "      <td>0.341799</td>\n",
       "      <td>0.035117</td>\n",
       "      <td>-0.001668</td>\n",
       "      <td>-0.002667</td>\n",
       "      <td>-0.028021</td>\n",
       "      <td>-0.018109</td>\n",
       "      <td>0.000795</td>\n",
       "      <td>0.013587</td>\n",
       "      <td>0.001756</td>\n",
       "    </tr>\n",
       "    <tr>\n",
       "      <th>Hyperlipidemia</th>\n",
       "      <td>0.017060</td>\n",
       "      <td>-0.007281</td>\n",
       "      <td>0.021983</td>\n",
       "      <td>0.010946</td>\n",
       "      <td>0.231650</td>\n",
       "      <td>-0.121694</td>\n",
       "      <td>-0.162311</td>\n",
       "      <td>-0.524752</td>\n",
       "      <td>0.035941</td>\n",
       "      <td>-0.432353</td>\n",
       "      <td>...</td>\n",
       "      <td>0.222778</td>\n",
       "      <td>-0.323103</td>\n",
       "      <td>0.063292</td>\n",
       "      <td>-0.006865</td>\n",
       "      <td>0.004721</td>\n",
       "      <td>-0.004341</td>\n",
       "      <td>0.024850</td>\n",
       "      <td>-0.017799</td>\n",
       "      <td>0.013231</td>\n",
       "      <td>0.003352</td>\n",
       "    </tr>\n",
       "    <tr>\n",
       "      <th>Back_pain</th>\n",
       "      <td>-0.013097</td>\n",
       "      <td>0.023855</td>\n",
       "      <td>0.024818</td>\n",
       "      <td>0.037077</td>\n",
       "      <td>-0.197766</td>\n",
       "      <td>0.092560</td>\n",
       "      <td>0.514419</td>\n",
       "      <td>-0.414553</td>\n",
       "      <td>0.030069</td>\n",
       "      <td>0.212443</td>\n",
       "      <td>...</td>\n",
       "      <td>-0.256034</td>\n",
       "      <td>0.260984</td>\n",
       "      <td>0.008172</td>\n",
       "      <td>0.044140</td>\n",
       "      <td>0.024376</td>\n",
       "      <td>-0.021564</td>\n",
       "      <td>-0.010646</td>\n",
       "      <td>-0.007065</td>\n",
       "      <td>-0.001078</td>\n",
       "      <td>0.000886</td>\n",
       "    </tr>\n",
       "    <tr>\n",
       "      <th>Anxiety</th>\n",
       "      <td>-0.000489</td>\n",
       "      <td>0.019434</td>\n",
       "      <td>0.035069</td>\n",
       "      <td>0.017759</td>\n",
       "      <td>0.238258</td>\n",
       "      <td>0.049465</td>\n",
       "      <td>0.263240</td>\n",
       "      <td>0.182107</td>\n",
       "      <td>0.254281</td>\n",
       "      <td>0.035079</td>\n",
       "      <td>...</td>\n",
       "      <td>0.419349</td>\n",
       "      <td>-0.002590</td>\n",
       "      <td>-0.051121</td>\n",
       "      <td>0.001980</td>\n",
       "      <td>0.000120</td>\n",
       "      <td>0.011548</td>\n",
       "      <td>0.005744</td>\n",
       "      <td>-0.027509</td>\n",
       "      <td>-0.002240</td>\n",
       "      <td>0.000693</td>\n",
       "    </tr>\n",
       "    <tr>\n",
       "      <th>Allergic_rhinitis</th>\n",
       "      <td>0.004833</td>\n",
       "      <td>0.027466</td>\n",
       "      <td>-0.008355</td>\n",
       "      <td>0.026639</td>\n",
       "      <td>-0.063451</td>\n",
       "      <td>-0.185367</td>\n",
       "      <td>0.256701</td>\n",
       "      <td>0.303837</td>\n",
       "      <td>0.033113</td>\n",
       "      <td>-0.140267</td>\n",
       "      <td>...</td>\n",
       "      <td>-0.129891</td>\n",
       "      <td>-0.134105</td>\n",
       "      <td>-0.017863</td>\n",
       "      <td>-0.011900</td>\n",
       "      <td>0.027574</td>\n",
       "      <td>0.016210</td>\n",
       "      <td>-0.027880</td>\n",
       "      <td>-0.002950</td>\n",
       "      <td>0.001274</td>\n",
       "      <td>-0.001041</td>\n",
       "    </tr>\n",
       "    <tr>\n",
       "      <th>Reflux_esophagitis</th>\n",
       "      <td>0.006451</td>\n",
       "      <td>-0.014118</td>\n",
       "      <td>0.025992</td>\n",
       "      <td>0.030077</td>\n",
       "      <td>-0.027030</td>\n",
       "      <td>0.459389</td>\n",
       "      <td>-0.085168</td>\n",
       "      <td>-0.260432</td>\n",
       "      <td>0.292560</td>\n",
       "      <td>0.054314</td>\n",
       "      <td>...</td>\n",
       "      <td>0.291397</td>\n",
       "      <td>-0.144921</td>\n",
       "      <td>0.056417</td>\n",
       "      <td>0.061127</td>\n",
       "      <td>-0.020089</td>\n",
       "      <td>-0.012793</td>\n",
       "      <td>-0.031099</td>\n",
       "      <td>-0.002359</td>\n",
       "      <td>0.003082</td>\n",
       "      <td>-0.002080</td>\n",
       "    </tr>\n",
       "    <tr>\n",
       "      <th>Asthma</th>\n",
       "      <td>-0.010655</td>\n",
       "      <td>0.019662</td>\n",
       "      <td>-0.029317</td>\n",
       "      <td>-0.016512</td>\n",
       "      <td>0.081975</td>\n",
       "      <td>-0.115638</td>\n",
       "      <td>0.352249</td>\n",
       "      <td>-0.000298</td>\n",
       "      <td>0.485151</td>\n",
       "      <td>0.233050</td>\n",
       "      <td>...</td>\n",
       "      <td>-0.054000</td>\n",
       "      <td>-0.435486</td>\n",
       "      <td>-0.032155</td>\n",
       "      <td>0.021820</td>\n",
       "      <td>0.008349</td>\n",
       "      <td>-0.012053</td>\n",
       "      <td>0.019954</td>\n",
       "      <td>-0.017633</td>\n",
       "      <td>-0.009461</td>\n",
       "      <td>0.001785</td>\n",
       "    </tr>\n",
       "    <tr>\n",
       "      <th>Item1</th>\n",
       "      <td>0.454696</td>\n",
       "      <td>-0.017358</td>\n",
       "      <td>-0.271756</td>\n",
       "      <td>0.115518</td>\n",
       "      <td>-0.003141</td>\n",
       "      <td>0.002648</td>\n",
       "      <td>-0.014214</td>\n",
       "      <td>-0.013762</td>\n",
       "      <td>0.006473</td>\n",
       "      <td>0.001511</td>\n",
       "      <td>...</td>\n",
       "      <td>0.001348</td>\n",
       "      <td>0.004354</td>\n",
       "      <td>-0.092195</td>\n",
       "      <td>-0.072867</td>\n",
       "      <td>-0.010630</td>\n",
       "      <td>0.085754</td>\n",
       "      <td>0.180556</td>\n",
       "      <td>0.096027</td>\n",
       "      <td>-0.800257</td>\n",
       "      <td>0.014200</td>\n",
       "    </tr>\n",
       "    <tr>\n",
       "      <th>Item2</th>\n",
       "      <td>0.428334</td>\n",
       "      <td>-0.014498</td>\n",
       "      <td>-0.265462</td>\n",
       "      <td>0.122667</td>\n",
       "      <td>-0.019907</td>\n",
       "      <td>0.022008</td>\n",
       "      <td>0.001534</td>\n",
       "      <td>-0.010007</td>\n",
       "      <td>0.010126</td>\n",
       "      <td>0.000983</td>\n",
       "      <td>...</td>\n",
       "      <td>-0.005722</td>\n",
       "      <td>0.013657</td>\n",
       "      <td>-0.146873</td>\n",
       "      <td>-0.128762</td>\n",
       "      <td>-0.060973</td>\n",
       "      <td>0.096408</td>\n",
       "      <td>0.625676</td>\n",
       "      <td>-0.005317</td>\n",
       "      <td>0.533804</td>\n",
       "      <td>0.000130</td>\n",
       "    </tr>\n",
       "    <tr>\n",
       "      <th>Item3</th>\n",
       "      <td>0.395157</td>\n",
       "      <td>-0.019953</td>\n",
       "      <td>-0.268197</td>\n",
       "      <td>0.120701</td>\n",
       "      <td>0.015295</td>\n",
       "      <td>-0.021349</td>\n",
       "      <td>-0.024453</td>\n",
       "      <td>-0.019960</td>\n",
       "      <td>0.021409</td>\n",
       "      <td>0.013943</td>\n",
       "      <td>...</td>\n",
       "      <td>-0.008462</td>\n",
       "      <td>-0.016603</td>\n",
       "      <td>-0.207344</td>\n",
       "      <td>-0.214422</td>\n",
       "      <td>-0.239311</td>\n",
       "      <td>-0.426656</td>\n",
       "      <td>-0.620615</td>\n",
       "      <td>-0.053315</td>\n",
       "      <td>0.189418</td>\n",
       "      <td>-0.004763</td>\n",
       "    </tr>\n",
       "    <tr>\n",
       "      <th>Item4</th>\n",
       "      <td>0.152122</td>\n",
       "      <td>0.025006</td>\n",
       "      <td>0.512488</td>\n",
       "      <td>-0.215809</td>\n",
       "      <td>0.024706</td>\n",
       "      <td>-0.014875</td>\n",
       "      <td>-0.002501</td>\n",
       "      <td>-0.043051</td>\n",
       "      <td>0.001308</td>\n",
       "      <td>0.015136</td>\n",
       "      <td>...</td>\n",
       "      <td>0.008030</td>\n",
       "      <td>0.025189</td>\n",
       "      <td>-0.357601</td>\n",
       "      <td>-0.359041</td>\n",
       "      <td>-0.390274</td>\n",
       "      <td>0.483238</td>\n",
       "      <td>-0.106807</td>\n",
       "      <td>-0.020373</td>\n",
       "      <td>-0.013013</td>\n",
       "      <td>-0.003379</td>\n",
       "    </tr>\n",
       "    <tr>\n",
       "      <th>Item5</th>\n",
       "      <td>-0.189945</td>\n",
       "      <td>-0.039005</td>\n",
       "      <td>-0.538855</td>\n",
       "      <td>0.218892</td>\n",
       "      <td>-0.005618</td>\n",
       "      <td>0.003353</td>\n",
       "      <td>0.014304</td>\n",
       "      <td>-0.030078</td>\n",
       "      <td>0.007422</td>\n",
       "      <td>-0.008336</td>\n",
       "      <td>...</td>\n",
       "      <td>-0.003394</td>\n",
       "      <td>-0.001092</td>\n",
       "      <td>0.124698</td>\n",
       "      <td>0.058171</td>\n",
       "      <td>-0.135302</td>\n",
       "      <td>0.695851</td>\n",
       "      <td>-0.299329</td>\n",
       "      <td>-0.044911</td>\n",
       "      <td>0.091081</td>\n",
       "      <td>-0.009315</td>\n",
       "    </tr>\n",
       "    <tr>\n",
       "      <th>Item6</th>\n",
       "      <td>0.410238</td>\n",
       "      <td>0.006023</td>\n",
       "      <td>0.154078</td>\n",
       "      <td>-0.055318</td>\n",
       "      <td>0.014351</td>\n",
       "      <td>0.011472</td>\n",
       "      <td>0.005279</td>\n",
       "      <td>-0.000320</td>\n",
       "      <td>-0.012311</td>\n",
       "      <td>0.005487</td>\n",
       "      <td>...</td>\n",
       "      <td>0.012398</td>\n",
       "      <td>-0.000906</td>\n",
       "      <td>-0.050291</td>\n",
       "      <td>0.056980</td>\n",
       "      <td>0.793875</td>\n",
       "      <td>0.271131</td>\n",
       "      <td>-0.272363</td>\n",
       "      <td>-0.043965</td>\n",
       "      <td>0.123728</td>\n",
       "      <td>-0.003402</td>\n",
       "    </tr>\n",
       "    <tr>\n",
       "      <th>Item7</th>\n",
       "      <td>0.356507</td>\n",
       "      <td>0.023103</td>\n",
       "      <td>0.165289</td>\n",
       "      <td>-0.048027</td>\n",
       "      <td>0.023431</td>\n",
       "      <td>-0.020506</td>\n",
       "      <td>0.011527</td>\n",
       "      <td>0.037326</td>\n",
       "      <td>-0.035612</td>\n",
       "      <td>-0.026587</td>\n",
       "      <td>...</td>\n",
       "      <td>-0.026067</td>\n",
       "      <td>0.000747</td>\n",
       "      <td>0.036134</td>\n",
       "      <td>0.843173</td>\n",
       "      <td>-0.332651</td>\n",
       "      <td>0.066880</td>\n",
       "      <td>-0.062259</td>\n",
       "      <td>-0.013876</td>\n",
       "      <td>0.050449</td>\n",
       "      <td>0.002911</td>\n",
       "    </tr>\n",
       "    <tr>\n",
       "      <th>Item8</th>\n",
       "      <td>0.312289</td>\n",
       "      <td>0.009113</td>\n",
       "      <td>0.157947</td>\n",
       "      <td>-0.056135</td>\n",
       "      <td>-0.053450</td>\n",
       "      <td>-0.011743</td>\n",
       "      <td>0.060741</td>\n",
       "      <td>0.034837</td>\n",
       "      <td>0.035581</td>\n",
       "      <td>0.044750</td>\n",
       "      <td>...</td>\n",
       "      <td>-0.021024</td>\n",
       "      <td>0.005880</td>\n",
       "      <td>0.866889</td>\n",
       "      <td>-0.270758</td>\n",
       "      <td>-0.151871</td>\n",
       "      <td>0.038301</td>\n",
       "      <td>-0.035345</td>\n",
       "      <td>-0.019573</td>\n",
       "      <td>0.032991</td>\n",
       "      <td>-0.004995</td>\n",
       "    </tr>\n",
       "    <tr>\n",
       "      <th>Zscore_Population</th>\n",
       "      <td>0.010272</td>\n",
       "      <td>-0.005349</td>\n",
       "      <td>-0.004397</td>\n",
       "      <td>0.050482</td>\n",
       "      <td>-0.333726</td>\n",
       "      <td>0.361202</td>\n",
       "      <td>0.023178</td>\n",
       "      <td>-0.018819</td>\n",
       "      <td>-0.083968</td>\n",
       "      <td>-0.141370</td>\n",
       "      <td>...</td>\n",
       "      <td>0.280225</td>\n",
       "      <td>0.215152</td>\n",
       "      <td>0.017163</td>\n",
       "      <td>-0.026487</td>\n",
       "      <td>-0.005552</td>\n",
       "      <td>-0.023330</td>\n",
       "      <td>-0.023152</td>\n",
       "      <td>0.007519</td>\n",
       "      <td>-0.003424</td>\n",
       "      <td>-0.001732</td>\n",
       "    </tr>\n",
       "    <tr>\n",
       "      <th>Zscore_Children</th>\n",
       "      <td>0.004176</td>\n",
       "      <td>0.014410</td>\n",
       "      <td>-0.015784</td>\n",
       "      <td>0.018573</td>\n",
       "      <td>0.341764</td>\n",
       "      <td>0.313034</td>\n",
       "      <td>-0.170600</td>\n",
       "      <td>0.211780</td>\n",
       "      <td>0.116328</td>\n",
       "      <td>0.060113</td>\n",
       "      <td>...</td>\n",
       "      <td>-0.133807</td>\n",
       "      <td>0.021275</td>\n",
       "      <td>0.047514</td>\n",
       "      <td>0.001238</td>\n",
       "      <td>0.018197</td>\n",
       "      <td>0.005462</td>\n",
       "      <td>-0.007270</td>\n",
       "      <td>0.010476</td>\n",
       "      <td>-0.001082</td>\n",
       "      <td>0.003021</td>\n",
       "    </tr>\n",
       "    <tr>\n",
       "      <th>Zscore_Age</th>\n",
       "      <td>-0.000043</td>\n",
       "      <td>0.483959</td>\n",
       "      <td>-0.046797</td>\n",
       "      <td>-0.001915</td>\n",
       "      <td>0.174741</td>\n",
       "      <td>-0.122794</td>\n",
       "      <td>0.031062</td>\n",
       "      <td>-0.212264</td>\n",
       "      <td>-0.230156</td>\n",
       "      <td>0.240238</td>\n",
       "      <td>...</td>\n",
       "      <td>0.304223</td>\n",
       "      <td>0.100844</td>\n",
       "      <td>0.026369</td>\n",
       "      <td>0.010376</td>\n",
       "      <td>0.012899</td>\n",
       "      <td>-0.003562</td>\n",
       "      <td>-0.000480</td>\n",
       "      <td>-0.003949</td>\n",
       "      <td>0.004126</td>\n",
       "      <td>0.485628</td>\n",
       "    </tr>\n",
       "    <tr>\n",
       "      <th>Zscore_Income</th>\n",
       "      <td>-0.002272</td>\n",
       "      <td>0.000433</td>\n",
       "      <td>0.012636</td>\n",
       "      <td>-0.020300</td>\n",
       "      <td>0.056392</td>\n",
       "      <td>0.415745</td>\n",
       "      <td>-0.012409</td>\n",
       "      <td>0.068471</td>\n",
       "      <td>0.308359</td>\n",
       "      <td>-0.058126</td>\n",
       "      <td>...</td>\n",
       "      <td>-0.015829</td>\n",
       "      <td>0.337089</td>\n",
       "      <td>-0.059721</td>\n",
       "      <td>0.016053</td>\n",
       "      <td>-0.007779</td>\n",
       "      <td>0.005926</td>\n",
       "      <td>-0.002394</td>\n",
       "      <td>0.000652</td>\n",
       "      <td>-0.003262</td>\n",
       "      <td>-0.001323</td>\n",
       "    </tr>\n",
       "    <tr>\n",
       "      <th>Zscore_Doc_visits</th>\n",
       "      <td>0.006960</td>\n",
       "      <td>0.012314</td>\n",
       "      <td>-0.001362</td>\n",
       "      <td>-0.016096</td>\n",
       "      <td>-0.092931</td>\n",
       "      <td>0.356645</td>\n",
       "      <td>0.289632</td>\n",
       "      <td>0.312409</td>\n",
       "      <td>-0.471140</td>\n",
       "      <td>-0.125063</td>\n",
       "      <td>...</td>\n",
       "      <td>0.205625</td>\n",
       "      <td>-0.450814</td>\n",
       "      <td>-0.007146</td>\n",
       "      <td>-0.023062</td>\n",
       "      <td>-0.024375</td>\n",
       "      <td>0.008877</td>\n",
       "      <td>-0.006954</td>\n",
       "      <td>-0.006449</td>\n",
       "      <td>-0.001538</td>\n",
       "      <td>-0.000166</td>\n",
       "    </tr>\n",
       "    <tr>\n",
       "      <th>Zscore_Full_meals_eaten</th>\n",
       "      <td>-0.000607</td>\n",
       "      <td>0.026555</td>\n",
       "      <td>-0.037026</td>\n",
       "      <td>-0.025009</td>\n",
       "      <td>0.383971</td>\n",
       "      <td>-0.128419</td>\n",
       "      <td>0.127329</td>\n",
       "      <td>0.230499</td>\n",
       "      <td>0.187974</td>\n",
       "      <td>-0.138161</td>\n",
       "      <td>...</td>\n",
       "      <td>0.178426</td>\n",
       "      <td>0.217854</td>\n",
       "      <td>0.062706</td>\n",
       "      <td>-0.032165</td>\n",
       "      <td>-0.012840</td>\n",
       "      <td>-0.000915</td>\n",
       "      <td>0.016158</td>\n",
       "      <td>-0.012802</td>\n",
       "      <td>0.000739</td>\n",
       "      <td>0.000405</td>\n",
       "    </tr>\n",
       "    <tr>\n",
       "      <th>Zscore_Initial_days</th>\n",
       "      <td>-0.019103</td>\n",
       "      <td>0.037890</td>\n",
       "      <td>0.258641</td>\n",
       "      <td>0.652787</td>\n",
       "      <td>-0.002281</td>\n",
       "      <td>-0.023644</td>\n",
       "      <td>-0.020301</td>\n",
       "      <td>0.035759</td>\n",
       "      <td>-0.011228</td>\n",
       "      <td>0.009910</td>\n",
       "      <td>...</td>\n",
       "      <td>-0.008191</td>\n",
       "      <td>0.007031</td>\n",
       "      <td>-0.014039</td>\n",
       "      <td>-0.010218</td>\n",
       "      <td>-0.001045</td>\n",
       "      <td>-0.013986</td>\n",
       "      <td>0.055710</td>\n",
       "      <td>-0.699031</td>\n",
       "      <td>-0.077266</td>\n",
       "      <td>-0.004227</td>\n",
       "    </tr>\n",
       "    <tr>\n",
       "      <th>Zscore_Total_charge</th>\n",
       "      <td>-0.014495</td>\n",
       "      <td>0.068713</td>\n",
       "      <td>0.270075</td>\n",
       "      <td>0.644849</td>\n",
       "      <td>0.011607</td>\n",
       "      <td>-0.032775</td>\n",
       "      <td>0.004887</td>\n",
       "      <td>0.033661</td>\n",
       "      <td>0.022414</td>\n",
       "      <td>-0.013281</td>\n",
       "      <td>...</td>\n",
       "      <td>-0.000288</td>\n",
       "      <td>-0.016677</td>\n",
       "      <td>0.000797</td>\n",
       "      <td>-0.011628</td>\n",
       "      <td>0.001073</td>\n",
       "      <td>0.021263</td>\n",
       "      <td>-0.052327</td>\n",
       "      <td>0.701023</td>\n",
       "      <td>0.066333</td>\n",
       "      <td>0.007286</td>\n",
       "    </tr>\n",
       "    <tr>\n",
       "      <th>Zscore_Additional_charges</th>\n",
       "      <td>0.002412</td>\n",
       "      <td>0.701144</td>\n",
       "      <td>-0.056458</td>\n",
       "      <td>-0.031632</td>\n",
       "      <td>-0.003762</td>\n",
       "      <td>0.009403</td>\n",
       "      <td>-0.028558</td>\n",
       "      <td>-0.023040</td>\n",
       "      <td>-0.009127</td>\n",
       "      <td>-0.012595</td>\n",
       "      <td>...</td>\n",
       "      <td>-0.005240</td>\n",
       "      <td>-0.000412</td>\n",
       "      <td>-0.002591</td>\n",
       "      <td>-0.005679</td>\n",
       "      <td>0.002041</td>\n",
       "      <td>-0.000757</td>\n",
       "      <td>0.003383</td>\n",
       "      <td>-0.007473</td>\n",
       "      <td>-0.010445</td>\n",
       "      <td>-0.708303</td>\n",
       "    </tr>\n",
       "  </tbody>\n",
       "</table>\n",
       "<p>28 rows × 28 columns</p>\n",
       "</div>"
      ],
      "text/plain": [
       "                                 0         1         2         3         4   \\\n",
       "Soft_drink                 0.006699  0.001290 -0.011021  0.009945  0.270668   \n",
       "High_blood                -0.004275  0.509045 -0.034166 -0.045650 -0.180190   \n",
       "Stroke                    -0.002684  0.037366 -0.022919 -0.008746  0.031067   \n",
       "Overweight                 0.004241  0.018845 -0.027435 -0.030096 -0.421873   \n",
       "Diabetes                  -0.003022  0.000677 -0.034888  0.004111  0.362358   \n",
       "Hyperlipidemia             0.017060 -0.007281  0.021983  0.010946  0.231650   \n",
       "Back_pain                 -0.013097  0.023855  0.024818  0.037077 -0.197766   \n",
       "Anxiety                   -0.000489  0.019434  0.035069  0.017759  0.238258   \n",
       "Allergic_rhinitis          0.004833  0.027466 -0.008355  0.026639 -0.063451   \n",
       "Reflux_esophagitis         0.006451 -0.014118  0.025992  0.030077 -0.027030   \n",
       "Asthma                    -0.010655  0.019662 -0.029317 -0.016512  0.081975   \n",
       "Item1                      0.454696 -0.017358 -0.271756  0.115518 -0.003141   \n",
       "Item2                      0.428334 -0.014498 -0.265462  0.122667 -0.019907   \n",
       "Item3                      0.395157 -0.019953 -0.268197  0.120701  0.015295   \n",
       "Item4                      0.152122  0.025006  0.512488 -0.215809  0.024706   \n",
       "Item5                     -0.189945 -0.039005 -0.538855  0.218892 -0.005618   \n",
       "Item6                      0.410238  0.006023  0.154078 -0.055318  0.014351   \n",
       "Item7                      0.356507  0.023103  0.165289 -0.048027  0.023431   \n",
       "Item8                      0.312289  0.009113  0.157947 -0.056135 -0.053450   \n",
       "Zscore_Population          0.010272 -0.005349 -0.004397  0.050482 -0.333726   \n",
       "Zscore_Children            0.004176  0.014410 -0.015784  0.018573  0.341764   \n",
       "Zscore_Age                -0.000043  0.483959 -0.046797 -0.001915  0.174741   \n",
       "Zscore_Income             -0.002272  0.000433  0.012636 -0.020300  0.056392   \n",
       "Zscore_Doc_visits          0.006960  0.012314 -0.001362 -0.016096 -0.092931   \n",
       "Zscore_Full_meals_eaten   -0.000607  0.026555 -0.037026 -0.025009  0.383971   \n",
       "Zscore_Initial_days       -0.019103  0.037890  0.258641  0.652787 -0.002281   \n",
       "Zscore_Total_charge       -0.014495  0.068713  0.270075  0.644849  0.011607   \n",
       "Zscore_Additional_charges  0.002412  0.701144 -0.056458 -0.031632 -0.003762   \n",
       "\n",
       "                                 5         6         7         8         9   \\\n",
       "Soft_drink                 0.188216  0.493427 -0.227849 -0.176596 -0.203660   \n",
       "High_blood                 0.130361 -0.068763  0.169801  0.209909 -0.262584   \n",
       "Stroke                     0.058381 -0.079772  0.066066 -0.124495  0.653645   \n",
       "Overweight                -0.305640  0.193228  0.097652  0.170671 -0.148307   \n",
       "Diabetes                  -0.050037  0.116749  0.100768 -0.247399 -0.083707   \n",
       "Hyperlipidemia            -0.121694 -0.162311 -0.524752  0.035941 -0.432353   \n",
       "Back_pain                  0.092560  0.514419 -0.414553  0.030069  0.212443   \n",
       "Anxiety                    0.049465  0.263240  0.182107  0.254281  0.035079   \n",
       "Allergic_rhinitis         -0.185367  0.256701  0.303837  0.033113 -0.140267   \n",
       "Reflux_esophagitis         0.459389 -0.085168 -0.260432  0.292560  0.054314   \n",
       "Asthma                    -0.115638  0.352249 -0.000298  0.485151  0.233050   \n",
       "Item1                      0.002648 -0.014214 -0.013762  0.006473  0.001511   \n",
       "Item2                      0.022008  0.001534 -0.010007  0.010126  0.000983   \n",
       "Item3                     -0.021349 -0.024453 -0.019960  0.021409  0.013943   \n",
       "Item4                     -0.014875 -0.002501 -0.043051  0.001308  0.015136   \n",
       "Item5                      0.003353  0.014304 -0.030078  0.007422 -0.008336   \n",
       "Item6                      0.011472  0.005279 -0.000320 -0.012311  0.005487   \n",
       "Item7                     -0.020506  0.011527  0.037326 -0.035612 -0.026587   \n",
       "Item8                     -0.011743  0.060741  0.034837  0.035581  0.044750   \n",
       "Zscore_Population          0.361202  0.023178 -0.018819 -0.083968 -0.141370   \n",
       "Zscore_Children            0.313034 -0.170600  0.211780  0.116328  0.060113   \n",
       "Zscore_Age                -0.122794  0.031062 -0.212264 -0.230156  0.240238   \n",
       "Zscore_Income              0.415745 -0.012409  0.068471  0.308359 -0.058126   \n",
       "Zscore_Doc_visits          0.356645  0.289632  0.312409 -0.471140 -0.125063   \n",
       "Zscore_Full_meals_eaten   -0.128419  0.127329  0.230499  0.187974 -0.138161   \n",
       "Zscore_Initial_days       -0.023644 -0.020301  0.035759 -0.011228  0.009910   \n",
       "Zscore_Total_charge       -0.032775  0.004887  0.033661  0.022414 -0.013281   \n",
       "Zscore_Additional_charges  0.009403 -0.028558 -0.023040 -0.009127 -0.012595   \n",
       "\n",
       "                           ...        18        19        20        21  \\\n",
       "Soft_drink                 ... -0.172550 -0.002912 -0.042917 -0.042161   \n",
       "High_blood                 ... -0.298921 -0.090384 -0.019798 -0.025505   \n",
       "Stroke                     ...  0.144420 -0.112637 -0.027671 -0.005642   \n",
       "Overweight                 ...  0.444712  0.196071 -0.041495  0.024872   \n",
       "Diabetes                   ...  0.040097  0.341799  0.035117 -0.001668   \n",
       "Hyperlipidemia             ...  0.222778 -0.323103  0.063292 -0.006865   \n",
       "Back_pain                  ... -0.256034  0.260984  0.008172  0.044140   \n",
       "Anxiety                    ...  0.419349 -0.002590 -0.051121  0.001980   \n",
       "Allergic_rhinitis          ... -0.129891 -0.134105 -0.017863 -0.011900   \n",
       "Reflux_esophagitis         ...  0.291397 -0.144921  0.056417  0.061127   \n",
       "Asthma                     ... -0.054000 -0.435486 -0.032155  0.021820   \n",
       "Item1                      ...  0.001348  0.004354 -0.092195 -0.072867   \n",
       "Item2                      ... -0.005722  0.013657 -0.146873 -0.128762   \n",
       "Item3                      ... -0.008462 -0.016603 -0.207344 -0.214422   \n",
       "Item4                      ...  0.008030  0.025189 -0.357601 -0.359041   \n",
       "Item5                      ... -0.003394 -0.001092  0.124698  0.058171   \n",
       "Item6                      ...  0.012398 -0.000906 -0.050291  0.056980   \n",
       "Item7                      ... -0.026067  0.000747  0.036134  0.843173   \n",
       "Item8                      ... -0.021024  0.005880  0.866889 -0.270758   \n",
       "Zscore_Population          ...  0.280225  0.215152  0.017163 -0.026487   \n",
       "Zscore_Children            ... -0.133807  0.021275  0.047514  0.001238   \n",
       "Zscore_Age                 ...  0.304223  0.100844  0.026369  0.010376   \n",
       "Zscore_Income              ... -0.015829  0.337089 -0.059721  0.016053   \n",
       "Zscore_Doc_visits          ...  0.205625 -0.450814 -0.007146 -0.023062   \n",
       "Zscore_Full_meals_eaten    ...  0.178426  0.217854  0.062706 -0.032165   \n",
       "Zscore_Initial_days        ... -0.008191  0.007031 -0.014039 -0.010218   \n",
       "Zscore_Total_charge        ... -0.000288 -0.016677  0.000797 -0.011628   \n",
       "Zscore_Additional_charges  ... -0.005240 -0.000412 -0.002591 -0.005679   \n",
       "\n",
       "                                 22        23        24        25        26  \\\n",
       "Soft_drink                -0.019622 -0.022970  0.009466  0.005958 -0.016062   \n",
       "High_blood                -0.010136  0.013138 -0.013337 -0.027163  0.006032   \n",
       "Stroke                    -0.024555  0.007986  0.010987  0.014578  0.008417   \n",
       "Overweight                -0.004228 -0.007004 -0.008543  0.003466 -0.001368   \n",
       "Diabetes                  -0.002667 -0.028021 -0.018109  0.000795  0.013587   \n",
       "Hyperlipidemia             0.004721 -0.004341  0.024850 -0.017799  0.013231   \n",
       "Back_pain                  0.024376 -0.021564 -0.010646 -0.007065 -0.001078   \n",
       "Anxiety                    0.000120  0.011548  0.005744 -0.027509 -0.002240   \n",
       "Allergic_rhinitis          0.027574  0.016210 -0.027880 -0.002950  0.001274   \n",
       "Reflux_esophagitis        -0.020089 -0.012793 -0.031099 -0.002359  0.003082   \n",
       "Asthma                     0.008349 -0.012053  0.019954 -0.017633 -0.009461   \n",
       "Item1                     -0.010630  0.085754  0.180556  0.096027 -0.800257   \n",
       "Item2                     -0.060973  0.096408  0.625676 -0.005317  0.533804   \n",
       "Item3                     -0.239311 -0.426656 -0.620615 -0.053315  0.189418   \n",
       "Item4                     -0.390274  0.483238 -0.106807 -0.020373 -0.013013   \n",
       "Item5                     -0.135302  0.695851 -0.299329 -0.044911  0.091081   \n",
       "Item6                      0.793875  0.271131 -0.272363 -0.043965  0.123728   \n",
       "Item7                     -0.332651  0.066880 -0.062259 -0.013876  0.050449   \n",
       "Item8                     -0.151871  0.038301 -0.035345 -0.019573  0.032991   \n",
       "Zscore_Population         -0.005552 -0.023330 -0.023152  0.007519 -0.003424   \n",
       "Zscore_Children            0.018197  0.005462 -0.007270  0.010476 -0.001082   \n",
       "Zscore_Age                 0.012899 -0.003562 -0.000480 -0.003949  0.004126   \n",
       "Zscore_Income             -0.007779  0.005926 -0.002394  0.000652 -0.003262   \n",
       "Zscore_Doc_visits         -0.024375  0.008877 -0.006954 -0.006449 -0.001538   \n",
       "Zscore_Full_meals_eaten   -0.012840 -0.000915  0.016158 -0.012802  0.000739   \n",
       "Zscore_Initial_days       -0.001045 -0.013986  0.055710 -0.699031 -0.077266   \n",
       "Zscore_Total_charge        0.001073  0.021263 -0.052327  0.701023  0.066333   \n",
       "Zscore_Additional_charges  0.002041 -0.000757  0.003383 -0.007473 -0.010445   \n",
       "\n",
       "                                 27  \n",
       "Soft_drink                 0.002343  \n",
       "High_blood                 0.511612  \n",
       "Stroke                     0.015599  \n",
       "Overweight                 0.000150  \n",
       "Diabetes                   0.001756  \n",
       "Hyperlipidemia             0.003352  \n",
       "Back_pain                  0.000886  \n",
       "Anxiety                    0.000693  \n",
       "Allergic_rhinitis         -0.001041  \n",
       "Reflux_esophagitis        -0.002080  \n",
       "Asthma                     0.001785  \n",
       "Item1                      0.014200  \n",
       "Item2                      0.000130  \n",
       "Item3                     -0.004763  \n",
       "Item4                     -0.003379  \n",
       "Item5                     -0.009315  \n",
       "Item6                     -0.003402  \n",
       "Item7                      0.002911  \n",
       "Item8                     -0.004995  \n",
       "Zscore_Population         -0.001732  \n",
       "Zscore_Children            0.003021  \n",
       "Zscore_Age                 0.485628  \n",
       "Zscore_Income             -0.001323  \n",
       "Zscore_Doc_visits         -0.000166  \n",
       "Zscore_Full_meals_eaten    0.000405  \n",
       "Zscore_Initial_days       -0.004227  \n",
       "Zscore_Total_charge        0.007286  \n",
       "Zscore_Additional_charges -0.708303  \n",
       "\n",
       "[28 rows x 28 columns]"
      ]
     },
     "execution_count": 45,
     "metadata": {},
     "output_type": "execute_result"
    }
   ],
   "source": [
    "loadings = pd.DataFrame(pca.components_.T, index=medical_normalized.columns)\n",
    "loadings"
   ]
  }
 ],
 "metadata": {
  "kernelspec": {
   "display_name": "Python 3",
   "language": "python",
   "name": "python3"
  },
  "language_info": {
   "codemirror_mode": {
    "name": "ipython",
    "version": 3
   },
   "file_extension": ".py",
   "mimetype": "text/x-python",
   "name": "python",
   "nbconvert_exporter": "python",
   "pygments_lexer": "ipython3",
   "version": "3.8.5"
  }
 },
 "nbformat": 4,
 "nbformat_minor": 4
}
